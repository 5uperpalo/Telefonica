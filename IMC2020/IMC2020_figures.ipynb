{
 "cells": [
  {
   "cell_type": "code",
   "execution_count": 1,
   "metadata": {},
   "outputs": [],
   "source": [
    "import pandas as pd\n",
    "import matplotlib.pyplot as plt\n",
    "from matplotlib.lines import Line2D\n",
    "from matplotlib.cm import get_cmap\n",
    "import numpy as np\n",
    "import geopandas as gpd\n",
    "import seaborn as sns\n",
    "from geopandas.tools import sjoin\n",
    "import contextily as ctx\n",
    "from shapely import wkt"
   ]
  },
  {
   "cell_type": "markdown",
   "metadata": {},
   "source": [
    "# 1. Fig.3\n",
    "London in years. I included only Jan from 2020, see list \"london_userperf_loc\""
   ]
  },
  {
   "cell_type": "code",
   "execution_count": 7,
   "metadata": {},
   "outputs": [],
   "source": [
    "london_homeantenna_loc = 'datasets/012020/home_ldn_onlysmartphones.csv'\n",
    "\n",
    "london_antenna_imd_loc = 'datasets/Telefonica_Antenna/XG/telefonica_antenna_london_imd_pd.csv'\n",
    "\n",
    "#MMYYYY_list = ['102018','112018','042019','072019','102019','012020','022020','032020','042020']\n",
    "MMYYYY_list = ['2018','2018','2019','2019','2019','2020']\n",
    "\n",
    "london_userperf_loc = ['datasets/102018/userperf_2018_10.csv', \n",
    "                       'datasets/112018/userperf_2018_11.csv', \n",
    "                       'datasets/042019/userperf_ldn_2019_04.csv', \n",
    "                       'datasets/072019/userperf_ldn_2019_07.csv', \n",
    "                       'datasets/102019/userperf_ldn_2019_10.csv',\n",
    "                       'datasets/012020/userperf_ldn_2020_jan.csv']#,\n",
    "                       #'datasets/022020/userperf_ldn_feb.csv',\n",
    "                       #'datasets/032020/userperf_ldn_mar.csv',\n",
    "                       #'datasets/042020/userperf_ldn_apr.csv']\n",
    "\n",
    "london_vdt_loc = 'datasets/VDT/newvdt202002_london.csv'\n",
    "birmingham_vdt_loc = 'datasets/VDT/newvdt202002_birmingam.csv'\n",
    "liverpool_vdt_loc = 'datasets/VDT/newvdt202002_liverpool.csv'\n",
    "\n",
    "london_antenna_imd_loc = 'datasets/Telefonica_Antenna/XG/telefonica_antenna_london_imd_pd.csv'\n",
    "birmingham_antenna_imd_loc = 'datasets/Telefonica_Antenna/XG/telefonica_antenna_birmingham_imd_pd.csv'\n",
    "liverpool_antenna_imd_loc = 'datasets/Telefonica_Antenna/XG/telefonica_antenna_liverpool_imd_pd.csv'"
   ]
  },
  {
   "cell_type": "code",
   "execution_count": 3,
   "metadata": {},
   "outputs": [],
   "source": [
    "#\n",
    "# read all files to 1 dataframe\n",
    "#\n",
    "\n",
    "london_userperf_pd = pd.read_csv(london_userperf_loc[0], index_col=False)\n",
    "london_userperf_pd['Year'] = MMYYYY_list[0]\n",
    "for loc,dt in zip(london_userperf_loc[1:], MMYYYY_list[1:]):\n",
    "    temp = pd.read_csv(loc, index_col=False)\n",
    "    temp['Year'] = dt\n",
    "    london_userperf_pd = london_userperf_pd.append(temp, ignore_index=True)"
   ]
  },
  {
   "cell_type": "code",
   "execution_count": 4,
   "metadata": {},
   "outputs": [],
   "source": [
    "#\n",
    "# filter(by merge) dataframe with home_antenna(residents) dataset and add(by merger) LSOA IMD values corresponding to each antenna\n",
    "#\n",
    "\n",
    "london_homeantenna_pd = pd.read_csv(london_homeantenna_loc, index_col=False)\n",
    "london_antenna_imd_pd = pd.read_csv(london_antenna_imd_loc, index_col=False)\n",
    "\n",
    "london_userperf_pd = pd.merge(london_userperf_pd, london_homeantenna_pd, on='device_id', how='inner')\n",
    "london_userperf_pd = pd.merge(london_userperf_pd, london_antenna_imd_pd, left_on='antenna_id', right_on='lkey', how='inner')"
   ]
  },
  {
   "cell_type": "code",
   "execution_count": 5,
   "metadata": {},
   "outputs": [],
   "source": [
    "#\n",
    "# normalization of values by 90th percentile\n",
    "#\n",
    "\n",
    "for column in ['avg(rtt4g_avg)', 'avg(retx4g_avg)', 'avg(bytesall)']:\n",
    "    for year in ['2018', '2019', '2020']:\n",
    "        london_userperf_pd.loc[london_userperf_pd['Year']==year,column] = london_userperf_pd.loc[london_userperf_pd['Year']==year,column]/london_userperf_pd.loc[london_userperf_pd['Year']==year,column].quantile(.9)#.max()    \n",
    "london_userperf_pd['sum(bytes4g)_ratio'] = london_userperf_pd['sum(bytes4g)']/london_userperf_pd['sum(bytesall)']"
   ]
  },
  {
   "cell_type": "code",
   "execution_count": 6,
   "metadata": {},
   "outputs": [
    {
     "name": "stderr",
     "output_type": "stream",
     "text": [
      "C:\\ProgramData\\Anaconda3\\lib\\site-packages\\ipykernel_launcher.py:36: MatplotlibDeprecationWarning: \n",
      "The frameon kwarg was deprecated in Matplotlib 3.1 and will be removed in 3.3. Use facecolor instead.\n"
     ]
    },
    {
     "data": {
      "image/png": "[encoded data removed]",
      "text/plain": [
       "<Figure size 432x288 with 3 Axes>"
      ]
     },
     "metadata": {
      "needs_background": "light"
     },
     "output_type": "display_data"
    }
   ],
   "source": [
    "#\n",
    "# uncoment the plot you want to plot/save\n",
    "#\n",
    "\n",
    "import matplotlib.pyplot as plt\n",
    "plt.rcParams.update({'font.size': 13, 'font.weight':'bold', 'axes.labelweight' : \"bold\"})\n",
    "\n",
    "fig, axes = plt.subplots(ncols=3, sharey=True)\n",
    "fig.subplots_adjust(wspace=0)\n",
    "\n",
    "# for ax, year in zip(axes, ['2018', '2019', '2020']):\n",
    "#     london_userperf_pd[london_userperf_pd['Year']==year].pivot(columns='IMDDecil', values='sum(bytes4g)_ratio').boxplot(whis=[10,90],showfliers =False,ax=ax)\n",
    "#     ax.set_ylim([0,1])\n",
    "#     ax.margins(0.05) # Optional\n",
    "#     ax.set_xlabel('\\n'+year)\n",
    "# axes[0].set_ylabel('4G time ratio')\n",
    "# axes[1].set_xlabel('IMD decile\\n2019')\n",
    "# fig.savefig('plots/nw_quality_acc_soceco_cls_london_a).pdf',transparent=True,bbox_inches='tight', pad_inches=0, frameon=False);\n",
    "\n",
    "# for ax, year in zip(axes, ['2018', '2019', '2020']):\n",
    "#     london_userperf_pd[london_userperf_pd['Year']==year].pivot(columns='IMDDecil', values='avg(retx4g_avg)').boxplot(whis=[10,90],showfliers =False,ax=ax)\n",
    "#     ax.margins(0.05) # Optional\n",
    "#     ax.set_ylim([0,1.2])\n",
    "#     ax.set_xlabel('\\n'+year)\n",
    "# axes[0].set_ylabel('Pkt retx [freq]')\n",
    "# axes[1].set_xlabel('IMD decile\\n2019')\n",
    "# fig.savefig('plots/nw_quality_acc_soceco_cls_london_b).pdf',transparent=True,bbox_inches='tight', pad_inches=0, frameon=False);\n",
    "\n",
    "for ax, year in zip(axes, ['2018', '2019', '2020']):\n",
    "    london_userperf_pd[london_userperf_pd['Year']==year].pivot(columns='IMDDecil', values='avg(rtt4g_avg)').boxplot(whis=[10,90],showfliers=False,ax=ax)\n",
    "    ax.margins(0.05) # Optional\n",
    "    #ax.set_ylim([0,1.6])\n",
    "    ax.set_xlabel('\\n'+year)\n",
    "axes[0].set_ylabel('Latency')\n",
    "axes[1].set_xlabel('IMD decile\\n2019')\n",
    "fig.savefig('plots/nw_quality_acc_soceco_cls_london_c).pdf',transparent=True,bbox_inches='tight', pad_inches=0, frameon=False);"
   ]
  },
  {
   "cell_type": "markdown",
   "metadata": {},
   "source": [
    "# 2. Fig. 4 & Fig. 6\n",
    "Common code for both figures.  \n",
    "Same logic for every code section as for Section 1."
   ]
  },
  {
   "cell_type": "code",
   "execution_count": 70,
   "metadata": {},
   "outputs": [],
   "source": [
    "london_antenna_imd_loc = 'datasets/Telefonica_Antenna/XG/telefonica_antenna_london_imd_pd.csv'\n",
    "birmingham_antenna_imd_loc = 'datasets/Telefonica_Antenna/XG/telefonica_antenna_birmingham_imd_pd.csv'\n",
    "liverpool_antenna_imd_loc = 'datasets/Telefonica_Antenna/XG/telefonica_antenna_liverpool_imd_pd.csv'\n",
    "\n",
    "london_homeantenna_loc = 'datasets/012020/home_ldn_onlysmartphones.csv'\n",
    "birmingham_homeantenna_loc = 'datasets/012020/home_birm_onlysmartphones.csv'\n",
    "liverpool_homeantenna_loc = 'datasets/012020/home_lpool_onlysmartphones.csv'\n",
    "\n",
    "london_userperf_loc = 'datasets/012020/userperf_ldn_2020_jan.csv'\n",
    "birmingham_userperf_loc = 'datasets/012020/userperf_birm_2020_jan.csv'\n",
    "liverpool_userperf_loc = 'datasets/012020/userperf_lpool_2020_jan.csv'"
   ]
  },
  {
   "cell_type": "code",
   "execution_count": null,
   "metadata": {},
   "outputs": [],
   "source": [
    "london_antenna_imd_pd = pd.read_csv(london_antenna_imd_loc, index_col=False)\n",
    "london_antenna_imd_pd = london_antenna_imd_pd[london_antenna_imd_pd['generation']=='4G']\n",
    "birmingham_antenna_imd_pd = pd.read_csv(birmingham_antenna_imd_loc, index_col=False)\n",
    "birmingham_antenna_imd_pd = birmingham_antenna_imd_pd[birmingham_antenna_imd_pd['generation']=='4G']\n",
    "liverpool_antenna_imd_pd = pd.read_csv(liverpool_antenna_imd_loc, index_col=False)\n",
    "liverpool_antenna_imd_pd = liverpool_antenna_imd_pd[liverpool_antenna_imd_pd['generation']=='4G']"
   ]
  },
  {
   "cell_type": "code",
   "execution_count": 71,
   "metadata": {},
   "outputs": [],
   "source": [
    "london_userperf_pd = pd.read_csv(london_userperf_loc, index_col=False)\n",
    "birmingham_userperf_pd = pd.read_csv(birmingham_userperf_loc, index_col=False)\n",
    "liverpool_userperf_pd = pd.read_csv(liverpool_userperf_loc, index_col=False)\n",
    "\n",
    "london_homeantenna_pd = pd.read_csv(london_homeantenna_loc, index_col=False)\n",
    "birmingham_homeantenna_pd = pd.read_csv(birmingham_homeantenna_loc, index_col=False)\n",
    "liverpool_homeantenna_pd = pd.read_csv(liverpool_homeantenna_loc, index_col=False)\n",
    "\n",
    "london_antenna_imd_pd = pd.read_csv(london_antenna_imd_loc, index_col=False)\n",
    "birmingham_antenna_imd_pd = pd.read_csv(birmingham_antenna_imd_loc, index_col=False)\n",
    "liverpool_antenna_imd_pd = pd.read_csv(liverpool_antenna_imd_loc, index_col=False)\n",
    "\n",
    "london_userperf_pd = pd.merge(london_userperf_pd, london_homeantenna_pd, on='device_id', how='inner')\n",
    "london_userperf_pd = pd.merge(london_userperf_pd, london_antenna_imd_pd, left_on='antenna_id', right_on='lkey', how='inner')\n",
    "\n",
    "birmingham_userperf_pd = pd.merge(birmingham_userperf_pd, birmingham_homeantenna_pd, on='device_id', how='inner')\n",
    "birmingham_userperf_pd = pd.merge(birmingham_userperf_pd, birmingham_antenna_imd_pd, left_on='antenna_id', right_on='lkey', how='inner')\n",
    "\n",
    "liverpool_userperf_pd = pd.merge(liverpool_userperf_pd, liverpool_homeantenna_pd, on='device_id', how='inner')\n",
    "liverpool_userperf_pd = pd.merge(liverpool_userperf_pd, liverpool_antenna_imd_pd, left_on='antenna_id', right_on='lkey', how='inner')"
   ]
  },
  {
   "cell_type": "markdown",
   "metadata": {},
   "source": [
    "## 2.1. Fig 4 specific part"
   ]
  },
  {
   "cell_type": "code",
   "execution_count": 72,
   "metadata": {},
   "outputs": [],
   "source": [
    "for column in ['avg(rtt4g_avg)', 'avg(retx4g_avg)', 'avg(bytesall)']:\n",
    "    london_userperf_pd[column] = london_userperf_pd[column]/london_userperf_pd[column].quantile(.9)#.max()\n",
    "    birmingham_userperf_pd[column] = birmingham_userperf_pd[column]/birmingham_userperf_pd[column].quantile(.9)#.max()\n",
    "    liverpool_userperf_pd[column] = liverpool_userperf_pd[column]/liverpool_userperf_pd[column].quantile(.9)#.max()\n",
    "    \n",
    "london_userperf_pd['sum(bytes4g)_ratio'] = london_userperf_pd['sum(bytes4g)']/london_userperf_pd['sum(bytesall)']\n",
    "birmingham_userperf_pd['sum(bytes4g)_ratio'] = birmingham_userperf_pd['sum(bytes4g)']/birmingham_userperf_pd['sum(bytesall)']\n",
    "liverpool_userperf_pd['sum(bytes4g)_ratio'] = liverpool_userperf_pd['sum(bytes4g)']/liverpool_userperf_pd['sum(bytesall)']"
   ]
  },
  {
   "cell_type": "code",
   "execution_count": 73,
   "metadata": {},
   "outputs": [],
   "source": [
    "#\n",
    "# I merged the 3 cities to 1 dataframe (london_userperf_pd) so it's easiet to iterate while plotting\n",
    "#\n",
    "\n",
    "london_userperf_pd['city'] = 'London'\n",
    "birmingham_userperf_pd['city'] = 'Birmingham'\n",
    "liverpool_userperf_pd['city'] = 'Liverpool'\n",
    "\n",
    "london_userperf_pd = london_userperf_pd.append(birmingham_userperf_pd, ignore_index=True)\n",
    "london_userperf_pd = london_userperf_pd.append(liverpool_userperf_pd, ignore_index=True)"
   ]
  },
  {
   "cell_type": "code",
   "execution_count": 66,
   "metadata": {},
   "outputs": [
    {
     "data": {
      "text/plain": [
       "Text(0.5, 0, 'IMD decile\\nBirmingham')"
      ]
     },
     "execution_count": 66,
     "metadata": {},
     "output_type": "execute_result"
    },
    {
     "data": {
      "image/png": "[encoded data removed]",
      "text/plain": [
       "<Figure size 432x288 with 3 Axes>"
      ]
     },
     "metadata": {},
     "output_type": "display_data"
    }
   ],
   "source": [
    "#\n",
    "# again, ucomment the plot you want to plot/save\n",
    "#\n",
    "\n",
    "import matplotlib.pyplot as plt\n",
    "plt.rcParams.update({'font.size': 13, 'font.weight':'bold', 'axes.labelweight' : \"bold\"})\n",
    "\n",
    "fig, axes = plt.subplots(ncols=3, sharey=True)\n",
    "fig.subplots_adjust(wspace=0)\n",
    "\n",
    "# for ax, city in zip(axes, ['London', 'Birmingham', 'Liverpool']):\n",
    "#     london_userperf_pd[london_userperf_pd['city']==city].pivot(columns='IMDDecil', values='sum(bytes4g)_ratio').boxplot(whis=[10,90],showfliers =False,ax=ax)\n",
    "#     ax.margins(0.05) # Optional\n",
    "#     ax.set_xlabel('\\n'+city)\n",
    "# axes[0].set_ylabel('4G time ratio')\n",
    "# axes[1].set_xlabel('IMD decile\\nBirmingham')\n",
    "# fig.savefig('plots/nw_quality_acc_soceco_cls_a).pdf',transparent=True,bbox_inches='tight', pad_inches=0, frameon=False);\n",
    "\n",
    "for ax, city in zip(axes, ['London', 'Birmingham', 'Liverpool']):\n",
    "    london_userperf_pd[london_userperf_pd['city']==city].pivot(columns='IMDDecil', values='avg(retx4g_avg)').boxplot(whis=[10,90],showfliers =False,ax=ax)\n",
    "    ax.margins(0.05) # Optional\n",
    "    ax.set_ylim([0,1.2])\n",
    "    ax.set_xlabel('\\n'+city)\n",
    "axes[0].set_ylabel('Pkt retx [freq]')\n",
    "axes[1].set_xlabel('IMD decile\\nBirmingham')\n",
    "fig.savefig('plots/nw_quality_acc_soceco_cls_b).pdf',transparent=True,bbox_inches='tight', pad_inches=0, frameon=False);\n",
    "\n",
    "# for ax, city in zip(axes, ['London', 'Birmingham', 'Liverpool']):\n",
    "#     london_userperf_pd[london_userperf_pd['city']==city].pivot(columns='IMDDecil', values='avg(rtt4g_avg)').boxplot(whis=[10,90],showfliers=False,ax=ax)\n",
    "#     ax.margins(0.05) # Optional\n",
    "#     ax.set_ylim([0,1.6])\n",
    "#     ax.set_xlabel('\\n'+city)\n",
    "# axes[0].set_ylabel('Latency')\n",
    "# axes[1].set_xlabel('IMD decile\\nBirmingham')\n",
    "# fig.savefig('plots/nw_quality_acc_soceco_cls_c).pdf',transparent=True,bbox_inches='tight', pad_inches=0, frameon=False);"
   ]
  },
  {
   "cell_type": "markdown",
   "metadata": {},
   "source": [
    "## 2.2. Fig. 6 specific part\n",
    "Same logic as previous subsection, I just filtered 5GB data exchange users and not normalized the columns, that's all."
   ]
  },
  {
   "cell_type": "code",
   "execution_count": 119,
   "metadata": {},
   "outputs": [],
   "source": [
    "london_userperf_pd['city'] = 'London'\n",
    "birmingham_userperf_pd['city'] = 'Birmingham'\n",
    "liverpool_userperf_pd['city'] = 'Liverpool'\n",
    "\n",
    "london_userperf_pd = london_userperf_pd.append(birmingham_userperf_pd, ignore_index=True)\n",
    "london_userperf_pd = london_userperf_pd.append(liverpool_userperf_pd, ignore_index=True)"
   ]
  },
  {
   "cell_type": "code",
   "execution_count": 120,
   "metadata": {},
   "outputs": [],
   "source": [
    "london_users = london_userperf_pd.groupby(['IMDDecil','city'])['device_id'].count()\n",
    "london_users5gb = london_userperf_pd.loc[london_userperf_pd['sum(bytesall)'] >5000000000].groupby(['IMDDecil', 'city'])['device_id'].count()/london_users\n",
    "\n",
    "london_users5gb = london_users5gb.reset_index()"
   ]
  },
  {
   "cell_type": "code",
   "execution_count": 127,
   "metadata": {},
   "outputs": [
    {
     "name": "stderr",
     "output_type": "stream",
     "text": [
      "C:\\ProgramData\\Anaconda3\\lib\\site-packages\\ipykernel_launcher.py:13: MatplotlibDeprecationWarning: \n",
      "The frameon kwarg was deprecated in Matplotlib 3.1 and will be removed in 3.3. Use facecolor instead.\n",
      "  del sys.path[0]\n"
     ]
    },
    {
     "data": {
      "image/png": "[encoded data removed]",
      "text/plain": [
       "<Figure size 432x288 with 3 Axes>"
      ]
     },
     "metadata": {},
     "output_type": "display_data"
    }
   ],
   "source": [
    "import matplotlib.pyplot as plt\n",
    "plt.rcParams.update({'font.size': 13, 'font.weight':'bold', 'axes.labelweight' : \"bold\"})\n",
    "\n",
    "fig, axes = plt.subplots(ncols=3, sharey=True)\n",
    "fig.subplots_adjust(wspace=0)\n",
    "\n",
    "for ax, city in zip(axes, ['London', 'Birmingham', 'Liverpool']):\n",
    "    london_users5gb[london_users5gb['city']==city].plot.bar(x='IMDDecil', y='device_id',ax=ax,rot=0,legend=False)\n",
    "    ax.margins(0.05) # Optional\n",
    "    ax.set_xlabel('\\n'+city)\n",
    "axes[0].set_ylabel('#users [%]')\n",
    "axes[1].set_xlabel('IMD decile\\nBirmingham')\n",
    "fig.savefig('plots/data_consump_among_dec.pdf',transparent=True,bbox_inches='tight', pad_inches=0, frameon=False);"
   ]
  },
  {
   "cell_type": "markdown",
   "metadata": {},
   "source": [
    "# 3. Fig 5 b-c\n",
    "Same plotting logic."
   ]
  },
  {
   "cell_type": "code",
   "execution_count": 146,
   "metadata": {},
   "outputs": [],
   "source": [
    "cdres_london_loc = 'datasets/012020/cd_res_ldn_01.csv'\n",
    "cdnonres_london_loc = 'datasets/012020/cd_nres_ldn_01.csv'\n",
    "cdres_birmingham_loc = 'datasets/012020/cd_res_birm_01.csv'\n",
    "cdnonres_birmingham_loc = 'datasets/012020/cd_nres_birm_01.csv'\n",
    "cdres_liverpool_loc = 'datasets/012020/cd_res_lpool_01.csv'\n",
    "cdnonres_liverpool_loc = 'datasets/012020/cd_nres_lpool_01.csv'\n",
    "\n",
    "london_antenna_imd_loc = 'datasets/Telefonica_Antenna/XG/telefonica_antenna_london_imd_pd.csv'\n",
    "birmingham_antenna_imd_loc = 'datasets/Telefonica_Antenna/XG/telefonica_antenna_birmingham_imd_pd.csv'\n",
    "liverpool_antenna_imd_loc = 'datasets/Telefonica_Antenna/XG/telefonica_antenna_liverpool_imd_pd.csv'"
   ]
  },
  {
   "cell_type": "code",
   "execution_count": 147,
   "metadata": {},
   "outputs": [],
   "source": [
    "london_antenna_imd_pd = pd.read_csv(london_antenna_imd_loc, index_col=False)\n",
    "london_antenna_imd_pd = london_antenna_imd_pd[london_antenna_imd_pd['generation']=='4G']\n",
    "birmingham_antenna_imd_pd = pd.read_csv(birmingham_antenna_imd_loc, index_col=False)\n",
    "birmingham_antenna_imd_pd = birmingham_antenna_imd_pd[birmingham_antenna_imd_pd['generation']=='4G']\n",
    "liverpool_antenna_imd_pd = pd.read_csv(liverpool_antenna_imd_loc, index_col=False)\n",
    "liverpool_antenna_imd_pd = liverpool_antenna_imd_pd[liverpool_antenna_imd_pd['generation']=='4G']"
   ]
  },
  {
   "cell_type": "code",
   "execution_count": 148,
   "metadata": {},
   "outputs": [],
   "source": [
    "london_cd_res_pd = pd.read_csv(cdres_london_loc, index_col=False)\n",
    "london_cd_res_pd['city'] = 'London'\n",
    "london_cd_res_pd = london_cd_res_pd.merge(london_antenna_imd_pd, left_on='antenna_id', right_on='lkey', how='inner')\n",
    "\n",
    "london_cd_nres_pd = pd.read_csv(cdnonres_london_loc, index_col=False)\n",
    "london_cd_nres_pd['city'] = 'London'\n",
    "london_cd_nres_pd = london_cd_nres_pd.merge(london_antenna_imd_pd, left_on='antenna_id', right_on='lkey', how='inner')\n",
    "\n",
    "birmingham_cd_res_pd = pd.read_csv(cdres_birmingham_loc, index_col=False)\n",
    "birmingham_cd_res_pd['city'] = 'Birmingham'\n",
    "birmingham_cd_res_pd = birmingham_cd_res_pd.merge(birmingham_antenna_imd_pd, left_on='antenna_id', right_on='lkey', how='inner')\n",
    "\n",
    "birmingham_cd_nres_pd = pd.read_csv(cdnonres_birmingham_loc, index_col=False)\n",
    "birmingham_cd_nres_pd['city'] = 'Birmingham'\n",
    "birmingham_cd_nres_pd = birmingham_cd_nres_pd.merge(birmingham_antenna_imd_pd, left_on='antenna_id', right_on='lkey', how='inner')\n",
    "\n",
    "liverpool_cd_res_pd = pd.read_csv(cdres_liverpool_loc, index_col=False)\n",
    "liverpool_cd_res_pd['city'] = 'Liverpool'\n",
    "liverpool_cd_res_pd = liverpool_cd_res_pd.merge(liverpool_antenna_imd_pd, left_on='antenna_id', right_on='lkey', how='inner')\n",
    "\n",
    "liverpool_cd_nres_pd = pd.read_csv(cdnonres_liverpool_loc, index_col=False)\n",
    "liverpool_cd_nres_pd['city'] = 'Liverpool'\n",
    "liverpool_cd_nres_pd = liverpool_cd_nres_pd.merge(liverpool_antenna_imd_pd, left_on='antenna_id', right_on='lkey', how='inner')\n",
    "\n",
    "london_cd_res_pd = london_cd_res_pd.append(birmingham_cd_res_pd, ignore_index=True)\n",
    "london_cd_res_pd = london_cd_res_pd.append(liverpool_cd_res_pd, ignore_index=True)\n",
    "\n",
    "london_cd_nres_pd = london_cd_nres_pd.append(birmingham_cd_nres_pd, ignore_index=True)\n",
    "london_cd_nres_pd = london_cd_nres_pd.append(liverpool_cd_nres_pd, ignore_index=True)"
   ]
  },
  {
   "cell_type": "code",
   "execution_count": 149,
   "metadata": {},
   "outputs": [],
   "source": [
    "#\n",
    "# this is the only different part, I add nonres and res data and assign it to nonres. Why? simple tricks : \n",
    "# so the nonres data \"looks like\" stacked n top of the the res data\n",
    "#\n",
    "\n",
    "london_density_res_avg_per_imd = london_cd_res_pd.groupby(['IMDDecil','city'])['avg_sum_time'].mean()/3600000\n",
    "london_density_nonres_avg_per_imd = london_cd_nres_pd.groupby(['IMDDecil','city'])['avg_sum_time'].mean()/3600000\n",
    "london_density_nonres_avg_per_imd = (london_density_nonres_avg_per_imd + london_density_res_avg_per_imd).reset_index()\n",
    "london_density_res_avg_per_imd = london_density_res_avg_per_imd.reset_index()\n",
    "\n",
    "\n",
    "london_devcnt_res_avg_per_imd = london_cd_res_pd.groupby(['IMDDecil','city'])['avg_count_device_id'].mean()\n",
    "london_devcnt_nonres_avg_per_imd = london_cd_nres_pd.groupby(['IMDDecil','city'])['avg_count_device_id'].mean()\n",
    "london_devcnt_nonres_avg_per_imd = (london_devcnt_nonres_avg_per_imd + london_devcnt_res_avg_per_imd).reset_index()\n",
    "london_devcnt_res_avg_per_imd = london_devcnt_res_avg_per_imd.reset_index()"
   ]
  },
  {
   "cell_type": "code",
   "execution_count": 156,
   "metadata": {},
   "outputs": [
    {
     "name": "stderr",
     "output_type": "stream",
     "text": [
      "C:\\ProgramData\\Anaconda3\\lib\\site-packages\\ipykernel_launcher.py:25: MatplotlibDeprecationWarning: \n",
      "The frameon kwarg was deprecated in Matplotlib 3.1 and will be removed in 3.3. Use facecolor instead.\n"
     ]
    },
    {
     "data": {
      "image/png": "[encoded data removed]",
      "text/plain": [
       "<Figure size 432x288 with 3 Axes>"
      ]
     },
     "metadata": {},
     "output_type": "display_data"
    }
   ],
   "source": [
    "#\n",
    "# again, uncomment which one you like\n",
    "#\n",
    "\n",
    "import matplotlib.pyplot as plt\n",
    "plt.rcParams.update({'font.size': 13, 'font.weight':'bold', 'axes.labelweight' : \"bold\"})\n",
    "\n",
    "fig, axes = plt.subplots(ncols=3, sharey=True)\n",
    "fig.subplots_adjust(wspace=0)\n",
    "\n",
    "# for ax, city in zip(axes, ['London', 'Birmingham', 'Liverpool']):\n",
    "#     london_devcnt_nonres_avg_per_imd[london_devcnt_nonres_avg_per_imd['city']==city].plot.bar(label='non-residents', x='IMDDecil', y='avg_count_device_id',ax=ax,rot=0,legend=False,color='orange')\n",
    "#     london_devcnt_res_avg_per_imd[london_devcnt_nonres_avg_per_imd['city']==city].plot.bar(label='residents', x='IMDDecil', y='avg_count_device_id',ax=ax,rot=0,legend=False,color='blue')\n",
    "#     ax.margins(0.05) # Optional\n",
    "#     ax.set_xlabel('\\n'+city)\n",
    "# axes[0].set_ylabel('Avg. device count')\n",
    "# axes[1].set_xlabel('IMD decile\\nBirmingham')\n",
    "# axes[0].legend(fontsize=10)\n",
    "# fig.savefig('plots/aggsec_lvl_anls_b).pdf',transparent=True,bbox_inches='tight', pad_inches=0, frameon=False);\n",
    "\n",
    "for ax, city in zip(axes, ['London', 'Birmingham', 'Liverpool']):\n",
    "    london_density_nonres_avg_per_imd[london_density_nonres_avg_per_imd['city']==city].plot.bar(label='non-residents', x='IMDDecil', y='avg_sum_time',ax=ax,rot=0,legend=False,color='orange')\n",
    "    london_density_res_avg_per_imd[london_density_nonres_avg_per_imd['city']==city].plot.bar(label='residents', x='IMDDecil', y='avg_sum_time',ax=ax,rot=0,legend=False,color='blue')\n",
    "    ax.margins(0.05) # Optional\n",
    "    ax.set_xlabel('\\n'+city)\n",
    "axes[0].set_ylabel('Sector Avg. Time Load [khours]')\n",
    "axes[1].set_xlabel('IMD decile\\nBirmingham')\n",
    "axes[0].legend(fontsize=10)\n",
    "fig.savefig('plots/aggsec_lvl_anls_c).pdf',transparent=True,bbox_inches='tight', pad_inches=0, frameon=False);"
   ]
  },
  {
   "cell_type": "markdown",
   "metadata": {},
   "source": [
    "# 4. Fig. 5 a\n",
    "A bit more complex, I idea : I calculate center/centroid of each LSOA polygon, then calculate distance to all antennas from each centroid and take the closest one. The code is a bit more complicated as I did only minor modifications from the code where I calcuated avg distance to closest 3 and 5 antennas."
   ]
  },
  {
   "cell_type": "code",
   "execution_count": 162,
   "metadata": {},
   "outputs": [],
   "source": [
    "london_lsoa_2019_loc = 'datasets/UK_LSOA/london_lsoa_2019_gpd.geojson'\n",
    "birmingham_lsoa_2019_loc ='datasets/UK_LSOA/birmingham_lsoa_2019_gpd.geojson'\n",
    "liverpool_lsoa_2019_loc = 'datasets/UK_LSOA/liverpool_lsoa_2019_gpd.geojson'\n",
    "\n",
    "london_antenna_imd_loc = 'datasets/Telefonica_Antenna/XG/telefonica_antenna_london_imd_pd.csv'\n",
    "birmingham_antenna_imd_loc = 'datasets/Telefonica_Antenna/XG/telefonica_antenna_birmingham_imd_pd.csv'\n",
    "liverpool_antenna_imd_loc = 'datasets/Telefonica_Antenna/XG/telefonica_antenna_liverpool_imd_pd.csv'"
   ]
  },
  {
   "cell_type": "code",
   "execution_count": 163,
   "metadata": {},
   "outputs": [],
   "source": [
    "london_lsoa_2019_gpd = gpd.read_file(london_lsoa_2019_loc)\n",
    "birmingham_lsoa_2019_gpd = gpd.read_file(birmingham_lsoa_2019_loc)\n",
    "liverpool_lsoa_2019_gpd = gpd.read_file(liverpool_lsoa_2019_loc)\n",
    "\n",
    "# filter 4G antennas\n",
    "london_antenna_imd_pd = pd.read_csv(london_antenna_imd_loc, index_col=False)\n",
    "london_antenna_imd_pd = london_antenna_imd_pd[london_antenna_imd_pd['generation']=='4G']\n",
    "birmingham_antenna_imd_pd = pd.read_csv(birmingham_antenna_imd_loc, index_col=False)\n",
    "birmingham_antenna_imd_pd = birmingham_antenna_imd_pd[birmingham_antenna_imd_pd['generation']=='4G']\n",
    "liverpool_antenna_imd_pd = pd.read_csv(liverpool_antenna_imd_loc, index_col=False)\n",
    "liverpool_antenna_imd_pd = liverpool_antenna_imd_pd[liverpool_antenna_imd_pd['generation']=='4G']"
   ]
  },
  {
   "cell_type": "code",
   "execution_count": 164,
   "metadata": {},
   "outputs": [],
   "source": [
    "london_antenna_imd_pd['geometry'] = london_antenna_imd_pd['geometry'].apply(wkt.loads)\n",
    "london_antenna_gpd = gpd.GeoDataFrame(london_antenna_imd_pd, geometry='geometry').drop(columns=['geometry_voronoi','lkey','generation','IMDDecil']).rename(columns={'geometry_voronoi': 'geometry'})\n",
    "birmingham_antenna_imd_pd['geometry'] = birmingham_antenna_imd_pd['geometry'].apply(wkt.loads)\n",
    "birmingham_antenna_gpd = gpd.GeoDataFrame(birmingham_antenna_imd_pd, geometry='geometry').drop(columns=['geometry_voronoi','lkey','generation','IMDDecil']).rename(columns={'geometry_voronoi': 'geometry'})\n",
    "liverpool_antenna_imd_pd['geometry'] = liverpool_antenna_imd_pd['geometry'].apply(wkt.loads)\n",
    "liverpool_antenna_gpd = gpd.GeoDataFrame(liverpool_antenna_imd_pd, geometry='geometry').drop(columns=['geometry_voronoi','lkey','generation','IMDDecil']).rename(columns={'geometry_voronoi': 'geometry'})"
   ]
  },
  {
   "cell_type": "code",
   "execution_count": 165,
   "metadata": {},
   "outputs": [],
   "source": [
    "def avg_n_dist(point, series):\n",
    "    distances = []\n",
    "    for pt in series:\n",
    "        distances.append(point.distance(pt))\n",
    "    distances.sort()\n",
    "    return [distances[0]]\n",
    "\n",
    "london_lsoa_2019_gpd['centroid_geometry'] = london_lsoa_2019_gpd.geometry.centroid\n",
    "birmingham_lsoa_2019_gpd['centroid_geometry'] = birmingham_lsoa_2019_gpd.geometry.centroid\n",
    "liverpool_lsoa_2019_gpd['centroid_geometry'] = liverpool_lsoa_2019_gpd.geometry.centroid\n",
    "\n",
    "avg_1_distances = []\n",
    "for lsoa_centroid in london_lsoa_2019_gpd['centroid_geometry']:\n",
    "    n1 = avg_n_dist(lsoa_centroid, london_antenna_gpd['geometry'])\n",
    "    avg_1_distances.append(n1)\n",
    "london_lsoa_2019_gpd['avg_distance_to_1_antennas'] = np.array(avg_1_distances)/1000\n",
    "\n",
    "avg_1_distances = []\n",
    "for lsoa_centroid in birmingham_lsoa_2019_gpd['centroid_geometry']:\n",
    "    n1 = avg_n_dist(lsoa_centroid, birmingham_antenna_gpd['geometry'])\n",
    "    avg_1_distances.append(n1)    \n",
    "birmingham_lsoa_2019_gpd['avg_distance_to_1_antennas'] = np.array(avg_1_distances)/1000\n",
    "\n",
    "avg_1_distances = []\n",
    "for lsoa_centroid in liverpool_lsoa_2019_gpd['centroid_geometry']:\n",
    "    n1 = avg_n_dist(lsoa_centroid, liverpool_antenna_gpd['geometry'])\n",
    "    avg_1_distances.append(n1)    \n",
    "liverpool_lsoa_2019_gpd['avg_distance_to_1_antennas'] = np.array(avg_1_distances)/1000"
   ]
  },
  {
   "cell_type": "code",
   "execution_count": 166,
   "metadata": {},
   "outputs": [],
   "source": [
    "london_lsoa_2019_gpd['city'] = 'London'\n",
    "birmingham_lsoa_2019_gpd['city'] = 'Birmingham'\n",
    "liverpool_lsoa_2019_gpd['city'] = 'Liverpool'\n",
    "\n",
    "london_lsoa_2019_gpd = london_lsoa_2019_gpd.append(birmingham_lsoa_2019_gpd, ignore_index=True)\n",
    "london_lsoa_2019_gpd = london_lsoa_2019_gpd.append(liverpool_lsoa_2019_gpd, ignore_index=True)"
   ]
  },
  {
   "cell_type": "code",
   "execution_count": 174,
   "metadata": {},
   "outputs": [
    {
     "name": "stderr",
     "output_type": "stream",
     "text": [
      "C:\\ProgramData\\Anaconda3\\lib\\site-packages\\ipykernel_launcher.py:14: MatplotlibDeprecationWarning: \n",
      "The frameon kwarg was deprecated in Matplotlib 3.1 and will be removed in 3.3. Use facecolor instead.\n",
      "  \n"
     ]
    },
    {
     "data": {
      "image/png": "[encoded data removed]",
      "text/plain": [
       "<Figure size 432x288 with 3 Axes>"
      ]
     },
     "metadata": {},
     "output_type": "display_data"
    }
   ],
   "source": [
    "import matplotlib.pyplot as plt\n",
    "plt.rcParams.update({'font.size': 13, 'font.weight':'bold', 'axes.labelweight' : \"bold\"})\n",
    "\n",
    "fig, axes = plt.subplots(ncols=3, sharey=True)\n",
    "fig.subplots_adjust(wspace=0)\n",
    "\n",
    "for ax, city in zip(axes, ['London', 'Birmingham', 'Liverpool']):\n",
    "    london_lsoa_2019_gpd[london_lsoa_2019_gpd['city']==city].pivot(columns='IMDDecil', values='avg_distance_to_1_antennas').boxplot(whis=[10,90], showfliers =False,ax=ax)\n",
    "    ax.margins(0.05) # Optional\n",
    "    ax.set_ylim([0,2])\n",
    "    ax.set_xlabel('\\n'+city)\n",
    "axes[0].set_ylabel('Avg. dist. to closest(4G)[km]')\n",
    "axes[1].set_xlabel('IMD decile\\nBirmingham')\n",
    "fig.savefig('plots/aggsec_lvl_anls_a).pdf',transparent=True,bbox_inches='tight', pad_inches=0, frameon=False);"
   ]
  },
  {
   "cell_type": "markdown",
   "metadata": {},
   "source": [
    "# Fig. 7"
   ]
  },
  {
   "cell_type": "code",
   "execution_count": 20,
   "metadata": {},
   "outputs": [],
   "source": [
    "# define datasets\n",
    "london_vdt_loc = 'datasets/VDT/newvdt202002_london.csv'\n",
    "birmingham_vdt_loc = 'datasets/VDT/newvdt202002_birmingam.csv'\n",
    "liverpool_vdt_loc = 'datasets/VDT/newvdt202002_liverpool.csv'\n",
    "\n",
    "london_antenna_imd_loc = 'datasets/Telefonica_Antenna/XG/telefonica_antenna_london_imd_pd.csv'\n",
    "birmingham_antenna_imd_loc = 'datasets/Telefonica_Antenna/XG/telefonica_antenna_birmingham_imd_pd.csv'\n",
    "liverpool_antenna_imd_loc = 'datasets/Telefonica_Antenna/XG/telefonica_antenna_liverpool_imd_pd.csv'"
   ]
  },
  {
   "cell_type": "code",
   "execution_count": 21,
   "metadata": {},
   "outputs": [],
   "source": [
    "# load 'em\n",
    "london_vdt_pd = pd.read_csv(london_vdt_loc, index_col=False)\n",
    "birmingham_vdt_pd = pd.read_csv(birmingham_vdt_loc, index_col=False)\n",
    "liverpool_vdt_pd = pd.read_csv(liverpool_vdt_loc, index_col=False)\n",
    "\n",
    "london_antenna_imd_pd = pd.read_csv(london_antenna_imd_loc, index_col=False)\n",
    "birmingham_antenna_imd_pd = pd.read_csv(birmingham_antenna_imd_loc, index_col=False)\n",
    "liverpool_antenna_imd_pd = pd.read_csv(liverpool_antenna_imd_loc, index_col=False)"
   ]
  },
  {
   "cell_type": "code",
   "execution_count": 22,
   "metadata": {},
   "outputs": [],
   "source": [
    "# filter the columns we will need \n",
    "london_vdt_pd = london_vdt_pd[['lkey','weighted_total_volume','sum_total_volume']]\n",
    "birmingham_vdt_pd = birmingham_vdt_pd[['lkey','weighted_total_volume','sum_total_volume']]\n",
    "liverpool_vdt_pd = liverpool_vdt_pd[['lkey','weighted_total_volume','sum_total_volume']]"
   ]
  },
  {
   "cell_type": "code",
   "execution_count": 23,
   "metadata": {},
   "outputs": [],
   "source": [
    "# join with IMD info\n",
    "london_vdt_pd = london_vdt_pd.merge(london_antenna_imd_pd, on='lkey', how='inner').drop(columns=['lkey','generation', 'geometry', 'geometry_voronoi']).dropna()\n",
    "birmingham_vdt_pd = birmingham_vdt_pd.merge(birmingham_antenna_imd_pd, on='lkey', how='inner').drop(columns=['lkey', 'generation', 'geometry', 'geometry_voronoi']).dropna()\n",
    "liverpool_vdt_pd = liverpool_vdt_pd.merge(liverpool_antenna_imd_pd, on='lkey', how='inner').drop(columns=['lkey', 'generation','geometry', 'geometry_voronoi']).dropna()"
   ]
  },
  {
   "cell_type": "code",
   "execution_count": 24,
   "metadata": {},
   "outputs": [],
   "source": [
    "for column in ['weighted_total_volume','sum_total_volume']:\n",
    "    london_vdt_pd[column] = london_vdt_pd[column]/london_vdt_pd[column].quantile(.9)\n",
    "    birmingham_vdt_pd[column] = birmingham_vdt_pd[column]/birmingham_vdt_pd[column].quantile(.9)\n",
    "    liverpool_vdt_pd[column] = liverpool_vdt_pd[column]/liverpool_vdt_pd[column].quantile(.9)"
   ]
  },
  {
   "cell_type": "code",
   "execution_count": 25,
   "metadata": {},
   "outputs": [],
   "source": [
    "london_vdt_pd['city'] = 'London'\n",
    "birmingham_vdt_pd['city'] = 'Birmingham'\n",
    "liverpool_vdt_pd['city'] = 'Liverpool'\n",
    "\n",
    "london_vdt_pd = london_vdt_pd.append(birmingham_vdt_pd, ignore_index=True)\n",
    "london_vdt_pd = london_vdt_pd.append(liverpool_vdt_pd, ignore_index=True)"
   ]
  },
  {
   "cell_type": "code",
   "execution_count": 32,
   "metadata": {},
   "outputs": [
    {
     "name": "stderr",
     "output_type": "stream",
     "text": [
      "C:\\ProgramData\\Anaconda3\\lib\\site-packages\\ipykernel_launcher.py:14: MatplotlibDeprecationWarning: \n",
      "The frameon kwarg was deprecated in Matplotlib 3.1 and will be removed in 3.3. Use facecolor instead.\n",
      "  \n"
     ]
    },
    {
     "data": {
      "image/png": "[encoded data removed]",
      "text/plain": [
       "<Figure size 432x288 with 3 Axes>"
      ]
     },
     "metadata": {
      "needs_background": "light"
     },
     "output_type": "display_data"
    }
   ],
   "source": [
    "import matplotlib.pyplot as plt\n",
    "plt.rcParams.update({'font.size': 13, 'font.weight':'bold', 'axes.labelweight' : \"bold\"})\n",
    "\n",
    "fig, axes = plt.subplots(ncols=3, sharey=True)\n",
    "fig.subplots_adjust(wspace=0)\n",
    "\n",
    "for ax, city in zip(axes, ['London', 'Birmingham', 'Liverpool']):\n",
    "    london_vdt_pd[london_vdt_pd['city']==city].pivot(columns='IMDDecil', values='weighted_total_volume').boxplot(whis=[10,90], showfliers =False,ax=ax)\n",
    "    ax.margins(0.05) # Optional\n",
    "    ax.set_ylim([0,1.2])\n",
    "    ax.set_xlabel('\\n'+city)\n",
    "axes[0].set_ylabel('weighted_total_volume')\n",
    "axes[1].set_xlabel('IMD decile\\nBirmingham')\n",
    "fig.savefig('plots/avg_num_bytes_per_sec_wtv_normalized.pdf',transparent=True,bbox_inches='tight', pad_inches=0, frameon=False);\n",
    "\n",
    "# for ax, city in zip(axes, ['London', 'Birmingham', 'Liverpool']):\n",
    "#     london_vdt_pd[london_vdt_pd['city']==city].pivot(columns='IMDDecil', values='sum_total_volume').boxplot(whis=[10,90], showfliers =False,ax=ax)\n",
    "#     ax.margins(0.05) # Optional\n",
    "#     ax.set_ylim([0,1.3])\n",
    "#     ax.set_xlabel('\\n'+city)\n",
    "# axes[0].set_ylabel('sum_total_volume')\n",
    "# axes[1].set_xlabel('IMD decile\\nBirmingham')\n",
    "# fig.savefig('plots/avg_num_bytes_per_sec_stv_normalized.pdf',transparent=True,bbox_inches='tight', pad_inches=0, frameon=False);"
   ]
  },
  {
   "cell_type": "markdown",
   "metadata": {},
   "source": [
    "# Seasonality check for London"
   ]
  },
  {
   "cell_type": "code",
   "execution_count": 61,
   "metadata": {},
   "outputs": [],
   "source": [
    "london_homeantenna_loc = 'datasets/012020/home_ldn_onlysmartphones.csv'\n",
    "\n",
    "london_antenna_imd_loc = 'datasets/Telefonica_Antenna/XG/telefonica_antenna_london_imd_pd.csv'\n",
    "\n",
    "MMYYYY_list = ['042019', '072019', '102019', '012020']\n",
    "london_userperf_loc = ['datasets/042019/userperf_ldn_2019_04.csv', \n",
    "                       'datasets/072019/userperf_ldn_2019_07.csv', \n",
    "                       'datasets/102019/userperf_ldn_2019_10.csv',\n",
    "                       'datasets/012020/userperf_ldn_2020_jan.csv']"
   ]
  },
  {
   "cell_type": "code",
   "execution_count": 62,
   "metadata": {},
   "outputs": [],
   "source": [
    "london_userperf_pd = pd.read_csv(london_userperf_loc[0], index_col=False)\n",
    "london_userperf_pd['MMYYYY'] = MMYYYY_list[0]\n",
    "for loc,dt in zip(london_userperf_loc[1:], MMYYYY_list[1:]):\n",
    "    temp = pd.read_csv(loc, index_col=False)\n",
    "    temp['MMYYYY'] = dt\n",
    "    london_userperf_pd = london_userperf_pd.append(temp, ignore_index=True)"
   ]
  },
  {
   "cell_type": "code",
   "execution_count": 63,
   "metadata": {},
   "outputs": [],
   "source": [
    "london_homeantenna_pd = pd.read_csv(london_homeantenna_loc, index_col=False)\n",
    "london_antenna_imd_pd = pd.read_csv(london_antenna_imd_loc, index_col=False)"
   ]
  },
  {
   "cell_type": "code",
   "execution_count": 64,
   "metadata": {},
   "outputs": [],
   "source": [
    "london_userperf_pd = pd.merge(london_userperf_pd, london_homeantenna_pd, on='device_id', how='inner')\n",
    "london_userperf_pd = pd.merge(london_userperf_pd, london_antenna_imd_pd, left_on='antenna_id', right_on='lkey', how='inner')"
   ]
  },
  {
   "cell_type": "code",
   "execution_count": 65,
   "metadata": {},
   "outputs": [],
   "source": [
    "for column in ['avg(rtt4g_avg)', 'avg(retx4g_avg)']:\n",
    "    for month in MMYYYY_list:\n",
    "        max_90p = 0        \n",
    "        for imd_id in range(1, 11):\n",
    "            imd_90p = london_userperf_pd.loc[(london_userperf_pd['IMDDecil']==imd_id) & (london_userperf_pd['MMYYYY']==month),column].quantile(q=0.9)\n",
    "            if max_90p < imd_90p:\n",
    "                max_90p = imd_90p\n",
    "        london_userperf_pd.loc[london_userperf_pd['MMYYYY']==month,column] = london_userperf_pd.loc[london_userperf_pd['MMYYYY']==month,column].divide(max_90p)\n",
    "london_userperf_pd['sum(bytes4g)_ratio'] = london_userperf_pd['sum(bytes4g)']/london_userperf_pd['sum(bytesall)']"
   ]
  },
  {
   "cell_type": "code",
   "execution_count": 69,
   "metadata": {},
   "outputs": [
    {
     "name": "stderr",
     "output_type": "stream",
     "text": [
      "C:\\ProgramData\\Anaconda3\\lib\\site-packages\\ipykernel_launcher.py:18: MatplotlibDeprecationWarning: \n",
      "The frameon kwarg was deprecated in Matplotlib 3.1 and will be removed in 3.3. Use facecolor instead.\n"
     ]
    },
    {
     "data": {
      "image/png": "[encoded data removed]",
      "text/plain": [
       "<Figure size 432x288 with 4 Axes>"
      ]
     },
     "metadata": {
      "needs_background": "light"
     },
     "output_type": "display_data"
    }
   ],
   "source": [
    "#\n",
    "# again, uncomment the plot you want to plot/save\n",
    "#\n",
    "\n",
    "import matplotlib.pyplot as plt\n",
    "plt.rcParams.update({'font.size': 8, 'font.weight':'bold', 'axes.labelweight' : \"bold\"})\n",
    "\n",
    "fig, axes = plt.subplots(ncols=4, sharey=True)\n",
    "fig.subplots_adjust(wspace=0)\n",
    "\n",
    "for ax, month in zip(axes, MMYYYY_list):\n",
    "    london_userperf_pd[london_userperf_pd['MMYYYY']==month].pivot(columns='IMDDecil', values='sum(bytes4g)_ratio').boxplot(whis=[10,90],showfliers =False,ax=ax)\n",
    "    ax.margins(0.05) # Optional\n",
    "    ax.set_ylim([0,1])\n",
    "    ax.set_xlabel('\\n'+month)\n",
    "axes[0].set_ylabel('4G time ratio')\n",
    "axes[2].text(-2.3, -0.12, 'IMD decile', fontsize=8)\n",
    "fig.savefig('plots/nw_quality_acc_soceco_cls_seasonality_lnd_a).pdf',transparent=True,bbox_inches='tight', pad_inches=0, frameon=False);\n",
    "\n",
    "# for ax, month in zip(axes, MMYYYY_list):\n",
    "#     london_userperf_pd[london_userperf_pd['MMYYYY']==month].pivot(columns='IMDDecil', values='avg(retx4g_avg)').boxplot(whis=[10,90],showfliers =False,ax=ax)\n",
    "#     ax.margins(0.05) # Optional\n",
    "#     ax.set_ylim([0,1])\n",
    "#     ax.set_xlabel('\\n'+month)\n",
    "# axes[0].set_ylabel('Pkt retx [freq]')\n",
    "# axes[2].text(-2.3, -0.12, 'IMD decile', fontsize=8)\n",
    "# fig.savefig('plots/nw_quality_acc_soceco_cls_seasonality_lnd_b).pdf',transparent=True,bbox_inches='tight', pad_inches=0, frameon=False);\n",
    "\n",
    "# for ax, month in zip(axes, MMYYYY_list):\n",
    "#     london_userperf_pd[london_userperf_pd['MMYYYY']==month].pivot(columns='IMDDecil', values='avg(rtt4g_avg)').boxplot(whis=[10,90],showfliers=False,ax=ax)\n",
    "#     ax.margins(0.05) # Optional\n",
    "#     ax.set_ylim([0,1])\n",
    "#     ax.set_xlabel('\\n'+month)\n",
    "# axes[0].set_ylabel('Latency')\n",
    "# axes[2].text(-2.3, -0.12, 'IMD decile', fontsize=8)\n",
    "# fig.savefig('plots/nw_quality_acc_soceco_cls_seasonality_lnd_c).pdf',transparent=True,bbox_inches='tight', pad_inches=0, frameon=False);"
   ]
  }
 ],
 "metadata": {
  "kernelspec": {
   "display_name": "Python 3",
   "language": "python",
   "name": "python3"
  },
  "language_info": {
   "codemirror_mode": {
    "name": "ipython",
    "version": 3
   },
   "file_extension": ".py",
   "mimetype": "text/x-python",
   "name": "python",
   "nbconvert_exporter": "python",
   "pygments_lexer": "ipython3",
   "version": "3.7.7"
  }
 },
 "nbformat": 4,
 "nbformat_minor": 4
}
