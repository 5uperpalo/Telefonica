{
 "cells": [
  {
   "cell_type": "code",
   "execution_count": 1,
   "metadata": {},
   "outputs": [],
   "source": [
    "import pandas as pd\n",
    "\n"
   ]
  },
  {
   "cell_type": "code",
   "execution_count": 2,
   "metadata": {},
   "outputs": [
    {
     "name": "stdout",
     "output_type": "stream",
     "text": [
      "(1265602, 3)\n"
     ]
    },
    {
     "data": {
      "text/html": [
       "<div>\n",
       "<style scoped>\n",
       "    .dataframe tbody tr th:only-of-type {\n",
       "        vertical-align: middle;\n",
       "    }\n",
       "\n",
       "    .dataframe tbody tr th {\n",
       "        vertical-align: top;\n",
       "    }\n",
       "\n",
       "    .dataframe thead th {\n",
       "        text-align: right;\n",
       "    }\n",
       "</style>\n",
       "<table border=\"1\" class=\"dataframe\">\n",
       "  <thead>\n",
       "    <tr style=\"text-align: right;\">\n",
       "      <th></th>\n",
       "      <th>device_id</th>\n",
       "      <th>home_gen</th>\n",
       "      <th>home_LSOA_IMD_decile</th>\n",
       "    </tr>\n",
       "  </thead>\n",
       "  <tbody>\n",
       "    <tr>\n",
       "      <th>0</th>\n",
       "      <td>+++DYIZ2fiXk9zntwtxxesNT82sG0xyja6IYFLrq9EQ=</td>\n",
       "      <td>4G</td>\n",
       "      <td>3</td>\n",
       "    </tr>\n",
       "    <tr>\n",
       "      <th>1</th>\n",
       "      <td>+++aeLtGhs1M8BUcp4FGPOxu2yGKpc9IZzwutqC50Uc=</td>\n",
       "      <td>4G</td>\n",
       "      <td>7</td>\n",
       "    </tr>\n",
       "    <tr>\n",
       "      <th>2</th>\n",
       "      <td>+++r9mtImogX9fMLnoj+PFr62s3MU6q1Cdj9EL8AzIk=</td>\n",
       "      <td>3G</td>\n",
       "      <td>4</td>\n",
       "    </tr>\n",
       "    <tr>\n",
       "      <th>3</th>\n",
       "      <td>++/2Xj/UgTI81joSlt6XL401sx9/XR2g0jhvHoCj/OI=</td>\n",
       "      <td>4G</td>\n",
       "      <td>2</td>\n",
       "    </tr>\n",
       "    <tr>\n",
       "      <th>4</th>\n",
       "      <td>++/JcdOqx/sAS7hjT9pWDIYyEqnWycBhDVnlZ8pyxQE=</td>\n",
       "      <td>3G</td>\n",
       "      <td>4</td>\n",
       "    </tr>\n",
       "  </tbody>\n",
       "</table>\n",
       "</div>"
      ],
      "text/plain": [
       "                                      device_id home_gen  home_LSOA_IMD_decile\n",
       "0  +++DYIZ2fiXk9zntwtxxesNT82sG0xyja6IYFLrq9EQ=       4G                     3\n",
       "1  +++aeLtGhs1M8BUcp4FGPOxu2yGKpc9IZzwutqC50Uc=       4G                     7\n",
       "2  +++r9mtImogX9fMLnoj+PFr62s3MU6q1Cdj9EL8AzIk=       3G                     4\n",
       "3  ++/2Xj/UgTI81joSlt6XL401sx9/XR2g0jhvHoCj/OI=       4G                     2\n",
       "4  ++/JcdOqx/sAS7hjT9pWDIYyEqnWycBhDVnlZ8pyxQE=       3G                     4"
      ]
     },
     "execution_count": 2,
     "metadata": {},
     "output_type": "execute_result"
    }
   ],
   "source": [
    "user_home = pd.read_csv('../Data/HomeAntenna_October_2018_GenerationIMD.csv')\n",
    "print(user_home.shape)\n",
    "user_home.head()"
   ]
  },
  {
   "cell_type": "code",
   "execution_count": 3,
   "metadata": {
    "scrolled": true
   },
   "outputs": [
    {
     "data": {
      "text/plain": [
       "<Figure size 640x480 with 1 Axes>"
      ]
     },
     "metadata": {},
     "output_type": "display_data"
    }
   ],
   "source": [
    "import matplotlib.pyplot as plt\n",
    "import numpy as np\n",
    "\n",
    "n, bins, patches = plt.hist(user_home['home_LSOA_IMD_decile'].tolist(), np.arange(0.5, 11.5, 1), density=False)\n",
    "plt.xticks(range(1, 11, 1))\n",
    "\n",
    "plt.xlabel('IMD decile')\n",
    "#plt.ylabel('')\n",
    "\n",
    "plt.show()"
   ]
  },
  {
   "cell_type": "code",
   "execution_count": 11,
   "metadata": {},
   "outputs": [
    {
     "name": "stdout",
     "output_type": "stream",
     "text": [
      "[ 80656. 212303. 233562. 164248. 129074. 145515. 111733.  93065.  68648.\n",
      "  26798.]\n"
     ]
    }
   ],
   "source": [
    "print(n)"
   ]
  },
  {
   "cell_type": "code",
   "execution_count": 18,
   "metadata": {
    "scrolled": false
   },
   "outputs": [
    {
     "data": {
      "image/png": "[encoded data removed]",
      "text/plain": [
       "<Figure size 432x288 with 1 Axes>"
      ]
     },
     "metadata": {},
     "output_type": "display_data"
    }
   ],
   "source": [
    "import numpy as np\n",
    "\n",
    "LSOA_IMD = pd.read_csv('../Data/LSOA_IMD.csv', sep=';')\n",
    "LSOA_IMD.columns = ['LSOA11CD', 'LSOA_name', 'LADC13', 'LADC13_name', 'IMD_score', 'IMD_rank', 'IMD_decile']\n",
    "\n",
    "#print(HomeLondon.shape)\n",
    "\n",
    "#n, bins, patches = plt.hist(LSOA_IMD['IMD_decile'].tolist(), np.arange(0.5, 11.5, 1), color='blue', alpha=0.8, density=True, label='LSOA')\n",
    "#n, bins, patches = plt.hist(user_home['home_LSOA_IMD_decile'].tolist(), np.arange(0.5, 11.5, 1), color='green', alpha=0.5, density=True, label='Sample User')\n",
    "\n",
    "#np.histogram(LSOA_IMD['IMD_decile'].tolist(), bins=np.arange(0.5, 11.5, 1), density=True)\n",
    "x = np.array(LSOA_IMD['IMD_decile'].tolist())\n",
    "y = np.array(user_home['home_LSOA_IMD_decile'].tolist())\n",
    "\n",
    "#bins = np.arange(0.5, 11.5, 1)\n",
    "plt.hist([x, y], bins, label=['LSOA', 'Users'], density=True, color=['skyblue', 'purple'])\n",
    "\n",
    "#print (n)\n",
    "plt.xticks(range(1, 11, 1))\n",
    "#plt.xlabel('IMD_scale')\n",
    "plt.legend(loc='upper right')\n",
    "\n",
    "plt.show()\n"
   ]
  },
  {
   "cell_type": "code",
   "execution_count": 12,
   "metadata": {},
   "outputs": [
    {
     "data": {
      "text/plain": [
       "(1173820, 3)"
      ]
     },
     "execution_count": 12,
     "metadata": {},
     "output_type": "execute_result"
    }
   ],
   "source": [
    "user_home = pd.read_csv('../Data/HomeAntenna_Feb_2019.csv')\n",
    "user_home.head()\n",
    "user_home.shape"
   ]
  },
  {
   "cell_type": "code",
   "execution_count": 13,
   "metadata": {
    "scrolled": true
   },
   "outputs": [
    {
     "data": {
      "text/plain": [
       "1173820"
      ]
     },
     "execution_count": 13,
     "metadata": {},
     "output_type": "execute_result"
    }
   ],
   "source": [
    "user_home.device_id.nunique()"
   ]
  },
  {
   "cell_type": "code",
   "execution_count": 14,
   "metadata": {
    "scrolled": true
   },
   "outputs": [
    {
     "data": {
      "text/plain": [
       "1173820"
      ]
     },
     "execution_count": 14,
     "metadata": {},
     "output_type": "execute_result"
    }
   ],
   "source": [
    "len(user_home)"
   ]
  },
  {
   "cell_type": "code",
   "execution_count": null,
   "metadata": {},
   "outputs": [],
   "source": []
  }
 ],
 "metadata": {
  "kernelspec": {
   "display_name": "Python 3",
   "language": "python",
   "name": "python3"
  },
  "language_info": {
   "codemirror_mode": {
    "name": "ipython",
    "version": 3
   },
   "file_extension": ".py",
   "mimetype": "text/x-python",
   "name": "python",
   "nbconvert_exporter": "python",
   "pygments_lexer": "ipython3",
   "version": "3.6.8"
  }
 },
 "nbformat": 4,
 "nbformat_minor": 2
}
