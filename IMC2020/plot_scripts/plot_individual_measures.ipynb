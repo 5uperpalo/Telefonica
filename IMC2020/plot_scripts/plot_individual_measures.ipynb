{
 "cells": [
  {
   "cell_type": "code",
   "execution_count": 12,
   "metadata": {},
   "outputs": [],
   "source": [
    "import pandas as pd\n",
    "pd.set_option('display.max_columns', None)\n",
    "\n",
    "import matplotlib as mpl\n",
    "import matplotlib.pyplot as plt\n",
    "%matplotlib inline\n",
    "\n",
    "import seaborn as sns\n",
    "\n",
    "#'''\n",
    "font = {'weight' : 'medium',\n",
    "       'size'   : 25}\n",
    "mpl.rc('font', **font)\n",
    "#'''"
   ]
  },
  {
   "cell_type": "code",
   "execution_count": 8,
   "metadata": {},
   "outputs": [
    {
     "data": {
      "text/html": [
       "<div>\n",
       "<style scoped>\n",
       "    .dataframe tbody tr th:only-of-type {\n",
       "        vertical-align: middle;\n",
       "    }\n",
       "\n",
       "    .dataframe tbody tr th {\n",
       "        vertical-align: top;\n",
       "    }\n",
       "\n",
       "    .dataframe thead th {\n",
       "        text-align: right;\n",
       "    }\n",
       "</style>\n",
       "<table border=\"1\" class=\"dataframe\">\n",
       "  <thead>\n",
       "    <tr style=\"text-align: right;\">\n",
       "      <th></th>\n",
       "      <th>uid</th>\n",
       "      <th>IMD</th>\n",
       "      <th>drop_3g</th>\n",
       "      <th>drop_4g</th>\n",
       "      <th>lat_3g</th>\n",
       "      <th>lat_4g</th>\n",
       "      <th>bytes_3g</th>\n",
       "      <th>bytes_4g</th>\n",
       "      <th>bytes_all</th>\n",
       "    </tr>\n",
       "  </thead>\n",
       "  <tbody>\n",
       "    <tr>\n",
       "      <th>0</th>\n",
       "      <td>+97QEeVwz92jooyEKM8kbbYBBZIPpQ4BF+FCkG3snac=</td>\n",
       "      <td>9</td>\n",
       "      <td>0.696727</td>\n",
       "      <td>0.644039</td>\n",
       "      <td>157.589543</td>\n",
       "      <td>83.594676</td>\n",
       "      <td>1.700304e+05</td>\n",
       "      <td>2.379596e+06</td>\n",
       "      <td>2.597962e+06</td>\n",
       "    </tr>\n",
       "    <tr>\n",
       "      <th>1</th>\n",
       "      <td>/yFkOu3m+VtM8SSuCkuMqn/EhBh4Tx+y+Tgbmpj/XIQ=</td>\n",
       "      <td>7</td>\n",
       "      <td>0.553118</td>\n",
       "      <td>0.236087</td>\n",
       "      <td>264.461920</td>\n",
       "      <td>143.495079</td>\n",
       "      <td>1.755440e+06</td>\n",
       "      <td>7.991475e+06</td>\n",
       "      <td>1.004089e+07</td>\n",
       "    </tr>\n",
       "    <tr>\n",
       "      <th>2</th>\n",
       "      <td>6cbFF03MxMLoTGIX5fpohJY9MlZYDAUkY2VEIpjdWpg=</td>\n",
       "      <td>10</td>\n",
       "      <td>0.934452</td>\n",
       "      <td>0.180765</td>\n",
       "      <td>146.438705</td>\n",
       "      <td>39.238266</td>\n",
       "      <td>1.548732e+03</td>\n",
       "      <td>1.359575e+06</td>\n",
       "      <td>1.444188e+06</td>\n",
       "    </tr>\n",
       "    <tr>\n",
       "      <th>3</th>\n",
       "      <td>ANkN2VR1XCTYscsPK7p1O/LuL33wkZ/cqeJib/hCzJo=</td>\n",
       "      <td>8</td>\n",
       "      <td>1.662982</td>\n",
       "      <td>0.851663</td>\n",
       "      <td>373.686861</td>\n",
       "      <td>158.728371</td>\n",
       "      <td>1.640234e+05</td>\n",
       "      <td>9.504778e+05</td>\n",
       "      <td>1.139695e+06</td>\n",
       "    </tr>\n",
       "    <tr>\n",
       "      <th>4</th>\n",
       "      <td>J4M8VqR2IYef0F5/B1yBBDdUJlaCNfHDiVYOP+tGiHo=</td>\n",
       "      <td>5</td>\n",
       "      <td>0.123706</td>\n",
       "      <td>0.190176</td>\n",
       "      <td>313.875000</td>\n",
       "      <td>127.499801</td>\n",
       "      <td>6.333945e+04</td>\n",
       "      <td>2.598297e+06</td>\n",
       "      <td>2.868341e+06</td>\n",
       "    </tr>\n",
       "  </tbody>\n",
       "</table>\n",
       "</div>"
      ],
      "text/plain": [
       "                                            uid  IMD   drop_3g   drop_4g  \\\n",
       "0  +97QEeVwz92jooyEKM8kbbYBBZIPpQ4BF+FCkG3snac=    9  0.696727  0.644039   \n",
       "1  /yFkOu3m+VtM8SSuCkuMqn/EhBh4Tx+y+Tgbmpj/XIQ=    7  0.553118  0.236087   \n",
       "2  6cbFF03MxMLoTGIX5fpohJY9MlZYDAUkY2VEIpjdWpg=   10  0.934452  0.180765   \n",
       "3  ANkN2VR1XCTYscsPK7p1O/LuL33wkZ/cqeJib/hCzJo=    8  1.662982  0.851663   \n",
       "4  J4M8VqR2IYef0F5/B1yBBDdUJlaCNfHDiVYOP+tGiHo=    5  0.123706  0.190176   \n",
       "\n",
       "       lat_3g      lat_4g      bytes_3g      bytes_4g     bytes_all  \n",
       "0  157.589543   83.594676  1.700304e+05  2.379596e+06  2.597962e+06  \n",
       "1  264.461920  143.495079  1.755440e+06  7.991475e+06  1.004089e+07  \n",
       "2  146.438705   39.238266  1.548732e+03  1.359575e+06  1.444188e+06  \n",
       "3  373.686861  158.728371  1.640234e+05  9.504778e+05  1.139695e+06  \n",
       "4  313.875000  127.499801  6.333945e+04  2.598297e+06  2.868341e+06  "
      ]
     },
     "execution_count": 8,
     "metadata": {},
     "output_type": "execute_result"
    }
   ],
   "source": [
    "#QoE_week = pd.read_csv('../Data/QoE_User_wdays.csv')\n",
    "QoE_week = pd.read_csv('../Data/UserPerf_new/agg_wdays/QoE_User_wdays.csv')\n",
    "QoE_wends = pd.read_csv('../Data/QoE_User_wends.csv')\n",
    "\n",
    "QoE_week=QoE_week.dropna()\n",
    "QoE_wends=QoE_wends.dropna()\n",
    "\n",
    "QoE_week.columns = ['uid', 'IMD', 'drop_3g', 'drop_4g', 'lat_3g', 'lat_4g', 'bytes_3g', 'bytes_4g', 'bytes_all']\n",
    "QoE_wends.columns = ['uid', 'IMD', 'drop_3g', 'drop_4g', 'lat_3g', 'lat_4g', 'bytes_3g', 'bytes_4g', 'bytes_all']\n",
    "\n",
    "QoE_week['IMD'] = QoE_week['IMD'].astype(int)\n",
    "QoE_week.head()"
   ]
  },
  {
   "cell_type": "code",
   "execution_count": 4,
   "metadata": {
    "scrolled": false
   },
   "outputs": [
    {
     "data": {
      "image/png": "[encoded data removed]",
      "text/plain": [
       "<Figure size 432x288 with 2 Axes>"
      ]
     },
     "metadata": {},
     "output_type": "display_data"
    }
   ],
   "source": [
    "from matplotlib import pyplot as plt\n",
    "import numpy as np\n",
    "\n",
    "rainfall = []\n",
    "floods = []\n",
    "\n",
    "for i in range(1, 11):\n",
    "    rainfall.append(QoE_week[QoE_week['IMD'] == i]['drop_3g'])\n",
    "    floods.append(QoE_week[QoE_week['IMD'] == i]['lat_3g'])\n",
    "fig, ax1 = plt.subplots()\n",
    "\n",
    "ax1.set_xlabel('IMD')\n",
    "ax1.set_ylabel('Avg packet drop frequency', color='tab:blue')\n",
    "res1 = ax1.boxplot(\n",
    "    rainfall, positions = np.arange(10)-0.17, widths=0.3,\n",
    "    patch_artist=True, showfliers=False, whis=[10,90]\n",
    ")\n",
    "#res1 = rainfall.boxplot(column='drop_4g', by='IMD', showfliers=False, whis=[10,90], \n",
    "#                 positions = np.arange(10)-0.25, widths=0.4,patch_artist=True, ax=ax1)\n",
    "for element in ['boxes', 'whiskers', 'fliers', 'means', 'medians', 'caps']:\n",
    "    plt.setp(res1[element], color='k')\n",
    "\n",
    "for patch in res1['boxes']:\n",
    "    patch.set_facecolor('tab:blue')\n",
    "\n",
    "\n",
    "ax2 = ax1.twinx()  # instantiate a second axes that shares the same x-axis\n",
    "ax2.set_ylabel('Latency (ms)', color='tab:orange')\n",
    "res2 = ax2.boxplot(\n",
    "    floods, positions = np.arange(10)+0.17, widths=0.3,\n",
    "    patch_artist=True, showfliers=False, whis=[10,90]\n",
    ")\n",
    "#floods.boxplot(column='lat_4g', by='IMD', showfliers=False, whis=[10,90], \n",
    "#                 positions = np.arange(10)-0.25, widths=0.4,patch_artist=True, ax=ax2)\n",
    "##from https://stackoverflow.com/a/41997865/2454357\n",
    "for element in ['boxes', 'whiskers', 'fliers', 'means', 'medians', 'caps']:\n",
    "    plt.setp(res2[element], color='k')\n",
    "\n",
    "for patch in res2['boxes']:\n",
    "    patch.set_facecolor('tab:orange')\n",
    "\n",
    "ax1.set_xlim([-0.55, 9.55])\n",
    "ax1.set_xticks(np.arange(10))\n",
    "ax1.set_xticklabels(range(1, 11))\n",
    "\n",
    "fig.tight_layout()  # otherwise the right y-label is slightly clipped\n",
    "plt.show()"
   ]
  },
  {
   "cell_type": "code",
   "execution_count": 16,
   "metadata": {
    "scrolled": true
   },
   "outputs": [
    {
     "data": {
      "image/png": "[encoded data removed]",
      "text/plain": [
       "<Figure size 720x576 with 1 Axes>"
      ]
     },
     "metadata": {},
     "output_type": "display_data"
    }
   ],
   "source": [
    "fig, ax = plt.subplots(figsize=(10,8))\n",
    "\n",
    "ax = QoE_week.boxplot(column='bytes_4g', by='IMD', showfliers=False, whis=[10,90], ax=ax)\n",
    "\n",
    "#ax.set_ylim([0, 1.05])\n",
    "plt.suptitle(\"\")\n",
    "plt.title(\"\")\n",
    "ax.set_xlabel('IMD decile')\n",
    "ax.set_ylabel('Bytes')\n",
    "#plt.ylabel('')\n",
    "plt.tight_layout()\n",
    "plt.show()"
   ]
  },
  {
   "cell_type": "code",
   "execution_count": 10,
   "metadata": {},
   "outputs": [
    {
     "data": {
      "text/plain": [
       "Text(0,0.5,'$p$')"
      ]
     },
     "execution_count": 10,
     "metadata": {},
     "output_type": "execute_result"
    },
    {
     "data": {
      "image/png": "[encoded data removed]",
      "text/plain": [
       "<Figure size 432x288 with 1 Axes>"
      ]
     },
     "metadata": {},
     "output_type": "display_data"
    }
   ],
   "source": [
    "measures = np.array(QoE_week['drop_4g'].tolist())\n",
    "\n",
    "measures_sorted = np.sort(measures)\n",
    "\n",
    "p = 1. * np.arange(len(measures)) / (len(measures) - 1)\n",
    "\n",
    "fig, ax = plt.subplots()\n",
    "\n",
    "ax.plot(measures_sorted, p)\n",
    "ax.set_xlim([0, 5])\n",
    "ax.set_xlabel('$Pkt Ret$')\n",
    "ax.set_ylabel('$p$')"
   ]
  },
  {
   "cell_type": "code",
   "execution_count": 30,
   "metadata": {},
   "outputs": [
    {
     "data": {
      "image/png": "[encoded data removed]",
      "text/plain": [
       "<Figure size 720x576 with 1 Axes>"
      ]
     },
     "metadata": {},
     "output_type": "display_data"
    },
    {
     "name": "stdout",
     "output_type": "stream",
     "text": [
      "185.3743758878049\n"
     ]
    }
   ],
   "source": [
    "max_90p = 0\n",
    "\n",
    "for imd_id in range(1, 11):\n",
    "    imd_90p = QoE_week[QoE_week['IMD'] == imd_id ]['lat_4g'].quantile(q=0.9)\n",
    "    if max_90p < imd_90p:\n",
    "        max_90p = imd_90p\n",
    "\n",
    "#QoE_week['lat_4g_norm'] = QoE_week['lat_4g'].divide(QoE_week['lat_4g'].quantile(q=0.9))\n",
    "QoE_week['lat_4g_norm'] = QoE_week['lat_4g'].divide(max_90p)\n",
    "\n",
    "fig, ax = plt.subplots(figsize=(10,8))\n",
    "\n",
    "ax = QoE_week.boxplot(column='lat_4g_norm', by='IMD', showfliers=False, whis=[10,90], ax=ax)\n",
    "\n",
    "ax.set_ylim([0, 1.05])\n",
    "plt.suptitle(\"\")\n",
    "plt.title(\"\")\n",
    "ax.set_xlabel('IMD decile')\n",
    "ax.set_ylabel('Latency')\n",
    "plt.tight_layout()\n",
    "plt.show()\n",
    "\n",
    "print(max_90p)"
   ]
  },
  {
   "cell_type": "code",
   "execution_count": 14,
   "metadata": {},
   "outputs": [
    {
     "data": {
      "text/plain": [
       "Text(0,0.5,'$p$')"
      ]
     },
     "execution_count": 14,
     "metadata": {},
     "output_type": "execute_result"
    },
    {
     "data": {
      "image/png": "[encoded data removed]",
      "text/plain": [
       "<Figure size 432x288 with 1 Axes>"
      ]
     },
     "metadata": {},
     "output_type": "display_data"
    }
   ],
   "source": [
    "measures = np.array(QoE_week['lat_4g'].tolist())\n",
    "\n",
    "measures_sorted = np.sort(measures)\n",
    "\n",
    "p = 1. * np.arange(len(measures)) / (len(measures) - 1)\n",
    "\n",
    "fig, ax = plt.subplots()\n",
    "\n",
    "ax.plot(measures_sorted, p)\n",
    "ax.set_xlim([0, 400])\n",
    "ax.set_xlabel('$Latency$')\n",
    "ax.set_ylabel('$p$')"
   ]
  },
  {
   "cell_type": "code",
   "execution_count": 7,
   "metadata": {},
   "outputs": [
    {
     "data": {
      "image/png": "[encoded data removed]",
      "text/plain": [
       "<Figure size 432x288 with 1 Axes>"
      ]
     },
     "metadata": {},
     "output_type": "display_data"
    }
   ],
   "source": [
    "ax = sns.boxenplot(data=QoE_week, x='IMD', y='drop_3g')\n",
    "ax.set_ylim([0, 10])\n",
    "plt.show()"
   ]
  },
  {
   "cell_type": "code",
   "execution_count": 12,
   "metadata": {
    "scrolled": true
   },
   "outputs": [
    {
     "data": {
      "image/png": "[encoded data removed]",
      "text/plain": [
       "<Figure size 432x288 with 1 Axes>"
      ]
     },
     "metadata": {},
     "output_type": "display_data"
    }
   ],
   "source": [
    "ax = sns.boxenplot(data=QoE_week, x='IMD', y='bytes_4g')\n",
    "ax.set_ylim([0, 200000000])\n",
    "plt.show()"
   ]
  },
  {
   "cell_type": "code",
   "execution_count": 8,
   "metadata": {
    "scrolled": true
   },
   "outputs": [
    {
     "data": {
      "image/png": "[encoded data removed]",
      "text/plain": [
       "<Figure size 432x288 with 1 Axes>"
      ]
     },
     "metadata": {},
     "output_type": "display_data"
    }
   ],
   "source": [
    "#ax = sns.boxplot(data=QoE_week, x='IMD', y='bytes_all')\n",
    "QoE_week.boxplot(column='bytes_all', by='IMD', showfliers=False, whis=[10,90])\n",
    "\n",
    "#ax.set_ylim([0, 200000000])\n",
    "#plt.title(\"Boxplot of Something\")\n",
    "# get rid of the automatic 'Boxplot grouped by group_by_column_name' title\n",
    "plt.suptitle(\"\")\n",
    "plt.xlabel('IMD decile')\n",
    "#plt.ylabel('')\n",
    "plt.show()"
   ]
  },
  {
   "cell_type": "code",
   "execution_count": 23,
   "metadata": {},
   "outputs": [],
   "source": [
    "QoE_week['bytes_4g_ratio'] = QoE_week['bytes_4g'] / QoE_week['bytes_all']\n",
    "QoE_week=QoE_week.rename(columns = {'bytes_4g_ratio':'4G consumption ratio'})"
   ]
  },
  {
   "cell_type": "code",
   "execution_count": 28,
   "metadata": {},
   "outputs": [
    {
     "data": {
      "image/png": "[encoded data removed]",
      "text/plain": [
       "<Figure size 720x576 with 1 Axes>"
      ]
     },
     "metadata": {},
     "output_type": "display_data"
    }
   ],
   "source": [
    "fig, ax = plt.subplots(figsize=(10,8))\n",
    "\n",
    "ax = QoE_week.boxplot(column='4G consumption ratio', by='IMD', showfliers=False, whis=[10,90], ax=ax)\n",
    "\n",
    "\n",
    "\n",
    "ax.set_ylim([0, 1.05])\n",
    "#plt.title(\"Boxplot of Something\")\n",
    "# get rid of the automatic 'Boxplot grouped by group_by_column_name' title\n",
    "plt.suptitle(\"\")\n",
    "plt.title(\"\")\n",
    "plt.xlabel('IMD decile')\n",
    "plt.ylabel('4G time ratio')\n",
    "#plt.ylabel('')\n",
    "plt.show()"
   ]
  },
  {
   "cell_type": "code",
   "execution_count": 23,
   "metadata": {
    "scrolled": true
   },
   "outputs": [
    {
     "data": {
      "text/html": [
       "<table class=\"simpletable\">\n",
       "<caption>OLS Regression Results</caption>\n",
       "<tr>\n",
       "  <th>Dep. Variable:</th>         <td>lat_4g</td>      <th>  R-squared:         </th>  <td>   0.001</td>  \n",
       "</tr>\n",
       "<tr>\n",
       "  <th>Model:</th>                   <td>OLS</td>       <th>  Adj. R-squared:    </th>  <td>   0.001</td>  \n",
       "</tr>\n",
       "<tr>\n",
       "  <th>Method:</th>             <td>Least Squares</td>  <th>  F-statistic:       </th>  <td>   139.1</td>  \n",
       "</tr>\n",
       "<tr>\n",
       "  <th>Date:</th>             <td>Fri, 10 May 2019</td> <th>  Prob (F-statistic):</th>  <td>1.09e-263</td> \n",
       "</tr>\n",
       "<tr>\n",
       "  <th>Time:</th>                 <td>12:58:24</td>     <th>  Log-Likelihood:    </th> <td>-5.9200e+06</td>\n",
       "</tr>\n",
       "<tr>\n",
       "  <th>No. Observations:</th>      <td>997265</td>      <th>  AIC:               </th>  <td>1.184e+07</td> \n",
       "</tr>\n",
       "<tr>\n",
       "  <th>Df Residuals:</th>          <td>997255</td>      <th>  BIC:               </th>  <td>1.184e+07</td> \n",
       "</tr>\n",
       "<tr>\n",
       "  <th>Df Model:</th>              <td>     9</td>      <th>                     </th>      <td> </td>     \n",
       "</tr>\n",
       "<tr>\n",
       "  <th>Covariance Type:</th>      <td>nonrobust</td>    <th>                     </th>      <td> </td>     \n",
       "</tr>\n",
       "</table>\n",
       "<table class=\"simpletable\">\n",
       "<tr>\n",
       "        <td></td>          <th>coef</th>     <th>std err</th>      <th>t</th>      <th>P>|t|</th>  <th>[0.025</th>    <th>0.975]</th>  \n",
       "</tr>\n",
       "<tr>\n",
       "  <th>Intercept</th>    <td>   92.1958</td> <td>    0.403</td> <td>  228.788</td> <td> 0.000</td> <td>   91.406</td> <td>   92.986</td>\n",
       "</tr>\n",
       "<tr>\n",
       "  <th>C(IMD)[T.2]</th>  <td>    2.7914</td> <td>    0.478</td> <td>    5.837</td> <td> 0.000</td> <td>    1.854</td> <td>    3.729</td>\n",
       "</tr>\n",
       "<tr>\n",
       "  <th>C(IMD)[T.3]</th>  <td>    2.6121</td> <td>    0.466</td> <td>    5.606</td> <td> 0.000</td> <td>    1.699</td> <td>    3.525</td>\n",
       "</tr>\n",
       "<tr>\n",
       "  <th>C(IMD)[T.4]</th>  <td>    7.7590</td> <td>    0.466</td> <td>   16.662</td> <td> 0.000</td> <td>    6.846</td> <td>    8.672</td>\n",
       "</tr>\n",
       "<tr>\n",
       "  <th>C(IMD)[T.5]</th>  <td>    4.1662</td> <td>    0.494</td> <td>    8.426</td> <td> 0.000</td> <td>    3.197</td> <td>    5.135</td>\n",
       "</tr>\n",
       "<tr>\n",
       "  <th>C(IMD)[T.6]</th>  <td>    5.6625</td> <td>    0.500</td> <td>   11.326</td> <td> 0.000</td> <td>    4.683</td> <td>    6.642</td>\n",
       "</tr>\n",
       "<tr>\n",
       "  <th>C(IMD)[T.7]</th>  <td>    7.7954</td> <td>    0.500</td> <td>   15.578</td> <td> 0.000</td> <td>    6.815</td> <td>    8.776</td>\n",
       "</tr>\n",
       "<tr>\n",
       "  <th>C(IMD)[T.8]</th>  <td>    9.9356</td> <td>    0.498</td> <td>   19.960</td> <td> 0.000</td> <td>    8.960</td> <td>   10.911</td>\n",
       "</tr>\n",
       "<tr>\n",
       "  <th>C(IMD)[T.9]</th>  <td>   12.0634</td> <td>    0.521</td> <td>   23.147</td> <td> 0.000</td> <td>   11.042</td> <td>   13.085</td>\n",
       "</tr>\n",
       "<tr>\n",
       "  <th>C(IMD)[T.10]</th> <td>    7.5559</td> <td>    0.596</td> <td>   12.677</td> <td> 0.000</td> <td>    6.388</td> <td>    8.724</td>\n",
       "</tr>\n",
       "</table>\n",
       "<table class=\"simpletable\">\n",
       "<tr>\n",
       "  <th>Omnibus:</th>       <td>2019189.194</td> <th>  Durbin-Watson:     </th>    <td>   1.998</td>    \n",
       "</tr>\n",
       "<tr>\n",
       "  <th>Prob(Omnibus):</th>   <td> 0.000</td>    <th>  Jarque-Bera (JB):  </th> <td>68495348059.943</td>\n",
       "</tr>\n",
       "<tr>\n",
       "  <th>Skew:</th>            <td>15.810</td>    <th>  Prob(JB):          </th>    <td>    0.00</td>    \n",
       "</tr>\n",
       "<tr>\n",
       "  <th>Kurtosis:</th>       <td>1286.510</td>   <th>  Cond. No.          </th>    <td>    15.0</td>    \n",
       "</tr>\n",
       "</table><br/><br/>Warnings:<br/>[1] Standard Errors assume that the covariance matrix of the errors is correctly specified."
      ],
      "text/plain": [
       "<class 'statsmodels.iolib.summary.Summary'>\n",
       "\"\"\"\n",
       "                            OLS Regression Results                            \n",
       "==============================================================================\n",
       "Dep. Variable:                 lat_4g   R-squared:                       0.001\n",
       "Model:                            OLS   Adj. R-squared:                  0.001\n",
       "Method:                 Least Squares   F-statistic:                     139.1\n",
       "Date:                Fri, 10 May 2019   Prob (F-statistic):          1.09e-263\n",
       "Time:                        12:58:24   Log-Likelihood:            -5.9200e+06\n",
       "No. Observations:              997265   AIC:                         1.184e+07\n",
       "Df Residuals:                  997255   BIC:                         1.184e+07\n",
       "Df Model:                           9                                         \n",
       "Covariance Type:            nonrobust                                         \n",
       "================================================================================\n",
       "                   coef    std err          t      P>|t|      [0.025      0.975]\n",
       "--------------------------------------------------------------------------------\n",
       "Intercept       92.1958      0.403    228.788      0.000      91.406      92.986\n",
       "C(IMD)[T.2]      2.7914      0.478      5.837      0.000       1.854       3.729\n",
       "C(IMD)[T.3]      2.6121      0.466      5.606      0.000       1.699       3.525\n",
       "C(IMD)[T.4]      7.7590      0.466     16.662      0.000       6.846       8.672\n",
       "C(IMD)[T.5]      4.1662      0.494      8.426      0.000       3.197       5.135\n",
       "C(IMD)[T.6]      5.6625      0.500     11.326      0.000       4.683       6.642\n",
       "C(IMD)[T.7]      7.7954      0.500     15.578      0.000       6.815       8.776\n",
       "C(IMD)[T.8]      9.9356      0.498     19.960      0.000       8.960      10.911\n",
       "C(IMD)[T.9]     12.0634      0.521     23.147      0.000      11.042      13.085\n",
       "C(IMD)[T.10]     7.5559      0.596     12.677      0.000       6.388       8.724\n",
       "==============================================================================\n",
       "Omnibus:                  2019189.194   Durbin-Watson:                   1.998\n",
       "Prob(Omnibus):                  0.000   Jarque-Bera (JB):      68495348059.943\n",
       "Skew:                          15.810   Prob(JB):                         0.00\n",
       "Kurtosis:                    1286.510   Cond. No.                         15.0\n",
       "==============================================================================\n",
       "\n",
       "Warnings:\n",
       "[1] Standard Errors assume that the covariance matrix of the errors is correctly specified.\n",
       "\"\"\""
      ]
     },
     "execution_count": 23,
     "metadata": {},
     "output_type": "execute_result"
    }
   ],
   "source": [
    "import scipy.stats as stats\n",
    "import statsmodels.api as sm\n",
    "from statsmodels.formula.api import ols\n",
    "\n",
    "QoE_week=QoE_week.rename(columns = {'4G consumption ratio': 'bytes_4g_ratio'})\n",
    "\n",
    "anova_results = ols('lat_4g ~ C(IMD)', data=QoE_week).fit()\n",
    "anova_results.summary()"
   ]
  },
  {
   "cell_type": "code",
   "execution_count": 24,
   "metadata": {},
   "outputs": [
    {
     "data": {
      "text/html": [
       "<div>\n",
       "<style scoped>\n",
       "    .dataframe tbody tr th:only-of-type {\n",
       "        vertical-align: middle;\n",
       "    }\n",
       "\n",
       "    .dataframe tbody tr th {\n",
       "        vertical-align: top;\n",
       "    }\n",
       "\n",
       "    .dataframe thead th {\n",
       "        text-align: right;\n",
       "    }\n",
       "</style>\n",
       "<table border=\"1\" class=\"dataframe\">\n",
       "  <thead>\n",
       "    <tr style=\"text-align: right;\">\n",
       "      <th></th>\n",
       "      <th>sum_sq</th>\n",
       "      <th>df</th>\n",
       "      <th>F</th>\n",
       "      <th>PR(&gt;F)</th>\n",
       "    </tr>\n",
       "  </thead>\n",
       "  <tbody>\n",
       "    <tr>\n",
       "      <th>C(IMD)</th>\n",
       "      <td>1.050174e+07</td>\n",
       "      <td>9.0</td>\n",
       "      <td>139.10474</td>\n",
       "      <td>1.090014e-263</td>\n",
       "    </tr>\n",
       "    <tr>\n",
       "      <th>Residual</th>\n",
       "      <td>8.365326e+09</td>\n",
       "      <td>997255.0</td>\n",
       "      <td>NaN</td>\n",
       "      <td>NaN</td>\n",
       "    </tr>\n",
       "  </tbody>\n",
       "</table>\n",
       "</div>"
      ],
      "text/plain": [
       "                sum_sq        df          F         PR(>F)\n",
       "C(IMD)    1.050174e+07       9.0  139.10474  1.090014e-263\n",
       "Residual  8.365326e+09  997255.0        NaN            NaN"
      ]
     },
     "execution_count": 24,
     "metadata": {},
     "output_type": "execute_result"
    }
   ],
   "source": [
    "aov_table = sm.stats.anova_lm(anova_results, typ=2)\n",
    "aov_table"
   ]
  },
  {
   "cell_type": "code",
   "execution_count": 25,
   "metadata": {
    "scrolled": true
   },
   "outputs": [
    {
     "name": "stdout",
     "output_type": "stream",
     "text": [
      "Multiple Comparison of Means - Tukey HSD,FWER=0.05\n",
      "=============================================\n",
      "group1 group2 meandiff  lower   upper  reject\n",
      "---------------------------------------------\n",
      "  1      2     2.7914   1.2783  4.3045  True \n",
      "  1      3     2.6121   1.138   4.0861  True \n",
      "  1      4     7.759    6.2857  9.2322  True \n",
      "  1      5     4.1662   2.6018  5.7306  True \n",
      "  1      6     5.6625   4.0807  7.2442  True \n",
      "  1      7     7.7954   6.2122  9.3786  True \n",
      "  1      8     9.9356   8.3608 11.5104  True \n",
      "  1      9    12.0634  10.4146 13.7122  True \n",
      "  1      10    7.5559   5.6702  9.4416  True \n",
      "  2      3    -0.1794  -1.2801  0.9214 False \n",
      "  2      4     4.9675   3.868   6.0671  True \n",
      "  2      5     1.3748   0.1558  2.5938  True \n",
      "  2      6     2.8711   1.6298  4.1123  True \n",
      "  2      7     5.004    3.7609  6.247   True \n",
      "  2      8     7.1442   5.9118  8.3765  True \n",
      "  2      9     9.272    7.9464 10.5976  True \n",
      "  2      10    4.7644   3.1537  6.3752  True \n",
      "  3      4     5.1469   4.1017  6.1921  True \n",
      "  3      5     1.5541   0.3839  2.7243  True \n",
      "  3      6     3.0504   1.857   4.2438  True \n",
      "  3      7     5.1833   3.9881  6.3786  True \n",
      "  3      8     7.3235   6.1394  8.5076  True \n",
      "  3      9     9.4513   8.1705 10.7322  True \n",
      "  3      10    4.9438   3.3696  6.5179  True \n",
      "  4      5    -3.5928  -4.7619 -2.4237  True \n",
      "  4      6    -2.0965  -3.2888 -0.9042  True \n",
      "  4      7     0.0364  -1.1578  1.2306 False \n",
      "  4      8     2.1766   0.9936  3.3597  True \n",
      "  4      9     4.3044   3.0245  5.5844  True \n",
      "  4      10   -0.2031  -1.7765  1.3703 False \n",
      "  5      6     1.4963   0.193   2.7995  True \n",
      "  5      7     3.6292   2.3242  4.9342  True \n",
      "  5      8     5.7694   4.4746  7.0642  True \n",
      "  5      9     7.8972   6.5134  9.281   True \n",
      "  5      10    3.3897   1.7306  5.0487  True \n",
      "  6      7     2.1329   0.8071  3.4587  True \n",
      "  6      8     4.2731   2.9573  5.5889  True \n",
      "  6      9     6.4009   4.9975  7.8044  True \n",
      "  6      10    1.8934   0.2179  3.5688  True \n",
      "  7      8     2.1402   0.8227  3.4577  True \n",
      "  7      9     4.268    2.8629  5.6731  True \n",
      "  7      10   -0.2395  -1.9163  1.4373 False \n",
      "  8      9     2.1278   0.7322  3.5235  True \n",
      "  8      10   -2.3797  -4.0486 -0.7109  True \n",
      "  9      10   -4.5076  -6.2464 -2.7687  True \n",
      "---------------------------------------------\n"
     ]
    }
   ],
   "source": [
    "from statsmodels.stats.multicomp import pairwise_tukeyhsd\n",
    "from statsmodels.stats.multicomp import MultiComparison\n",
    "\n",
    "mc = MultiComparison(QoE_week['lat_4g'], QoE_week['IMD'])\n",
    "mc_results = mc.tukeyhsd()\n",
    "print(mc_results)"
   ]
  },
  {
   "cell_type": "code",
   "execution_count": null,
   "metadata": {},
   "outputs": [],
   "source": []
  }
 ],
 "metadata": {
  "kernelspec": {
   "display_name": "Python 3",
   "language": "python",
   "name": "python3"
  },
  "language_info": {
   "codemirror_mode": {
    "name": "ipython",
    "version": 3
   },
   "file_extension": ".py",
   "mimetype": "text/x-python",
   "name": "python",
   "nbconvert_exporter": "python",
   "pygments_lexer": "ipython3",
   "version": "3.6.8"
  }
 },
 "nbformat": 4,
 "nbformat_minor": 2
}
